{
 "cells": [
  {
   "cell_type": "code",
   "execution_count": null,
   "metadata": {},
   "outputs": [],
   "source": [
    "!pip install pandas numpy tqdm"
   ]
  },
  {
   "cell_type": "code",
   "execution_count": null,
   "metadata": {},
   "outputs": [],
   "source": [
    "import pandas as pd\n",
    "import numpy as np\n",
    "import json\n",
    "from elasticsearch import Elasticsearch\n",
    "from tqdm import tqdm"
   ]
  },
  {
   "cell_type": "code",
   "execution_count": null,
   "metadata": {},
   "outputs": [],
   "source": [
    "ELASTIC_USERNAME = \"elastic\"\n",
    "ELASTIC_PASSWORD = \"skkudbp\"\n",
    "ELASTIC_PATH = \"https://es01:9200\""
   ]
  },
  {
   "cell_type": "markdown",
   "metadata": {},
   "source": [
    "# You must write your code and result in your **DOCUMENT ALSO**\n",
    "## Connect to the elasticsearch"
   ]
  },
  {
   "cell_type": "code",
   "execution_count": null,
   "metadata": {},
   "outputs": [],
   "source": [
    "######## DO NOT EDIT HERE ########\n",
    "\n",
    "def connect_to_elastic() -> Elasticsearch:\n",
    "    client = Elasticsearch(\n",
    "        ELASTIC_PATH,\n",
    "        ca_certs = \"/home/jovyan/certs/ca/ca.crt\",\n",
    "        basic_auth=(ELASTIC_USERNAME, ELASTIC_PASSWORD),\n",
    "    )\n",
    "    return client\n",
    "client = connect_to_elastic()\n",
    "\n",
    "######## DO NOT EDIT HERE ########"
   ]
  },
  {
   "cell_type": "markdown",
   "metadata": {},
   "source": [
    "## **[5pts]** Write mapping for the index"
   ]
  },
  {
   "cell_type": "code",
   "execution_count": null,
   "metadata": {},
   "outputs": [],
   "source": [
    "INDEX_NAME = \"movie_review\"\n",
    "######## EDIT HERE ########\n",
    "\n",
    "######## EDIT HERE ########"
   ]
  },
  {
   "cell_type": "markdown",
   "metadata": {},
   "source": [
    "## **[5pts]** Create Index"
   ]
  },
  {
   "cell_type": "code",
   "execution_count": null,
   "metadata": {},
   "outputs": [],
   "source": [
    "if not client.indices.exists(index=INDEX_NAME):\n",
    "    ######## EDIT HERE ########\n",
    "    \n",
    "    ######## EDIT HERE ########"
   ]
  },
  {
   "cell_type": "markdown",
   "metadata": {},
   "source": [
    "## **[5pts]** Insert documents"
   ]
  },
  {
   "cell_type": "code",
   "execution_count": null,
   "metadata": {},
   "outputs": [],
   "source": [
    "with open('./movie_data.json', 'r') as f:\n",
    "    movie_json = json.load(f)\n",
    "    ######## EDIT HERE ########\n",
    "    \n",
    "    ######## EDIT HERE ########"
   ]
  },
  {
   "cell_type": "markdown",
   "metadata": {},
   "source": [
    "# **[30pts]** Write a query for the given questions and report the results."
   ]
  },
  {
   "cell_type": "markdown",
   "metadata": {},
   "source": [
    "## **[10pts]** Count the number of reviews for movies in the 'Comedy' genre, including only those with a rating of 3.0 or below.\n",
    "\n"
   ]
  },
  {
   "cell_type": "code",
   "execution_count": null,
   "metadata": {},
   "outputs": [],
   "source": [
    "query = {\n",
    "    ######## EDIT HERE ########\n",
    "\n",
    "    ######## EDIT HERE ########\n",
    "}\n",
    "\n",
    "######## DO NOT EDIT HERE ########\n",
    "response = client.search(index=INDEX_NAME, body=query)\n",
    "print(len(response['hits']['hits']))\n",
    "######## DO NOT EDIT HERE ########"
   ]
  },
  {
   "cell_type": "markdown",
   "metadata": {},
   "source": [
    "## **[10pts]** Sort all reviews left by the user with userId: 219 in descending order of date."
   ]
  },
  {
   "cell_type": "code",
   "execution_count": null,
   "metadata": {},
   "outputs": [],
   "source": [
    "query = {\n",
    "    ######## EDIT HERE ########\n",
    "\n",
    "    ######## EDIT HERE ########\n",
    "}\n",
    "\n",
    "######## DO NOT EDIT HERE ########\n",
    "response = client.search(index=INDEX_NAME, body=query)\n",
    "movie_list = []\n",
    "for res in response['hits']['hits']:\n",
    "    movie_list.append(res['_source']['title'])\n",
    "for movie in movie_list:\n",
    "    print(movie)\n",
    "######## DO NOT EDIT HERE ########"
   ]
  },
  {
   "cell_type": "markdown",
   "metadata": {},
   "source": [
    "## **[10pts]** Find the titles of most recent 5 reviews that include both 'Romance' and 'Comedy' genres."
   ]
  },
  {
   "cell_type": "code",
   "execution_count": null,
   "metadata": {},
   "outputs": [],
   "source": [
    "query = {\n",
    "    ######## EDIT HERE ########\n",
    "\n",
    "    ######## EDIT HERE ########\n",
    "}\n",
    "\n",
    "######## DO NOT EDIT HERE ########\n",
    "response = client.search(index=INDEX_NAME, body=query)\n",
    "print(\"Numbers of result:\", response['hits']['total']['value'])\n",
    "\n",
    "for hit in response['hits']['hits']:\n",
    "    print(hit['_source']['title'], hit['_source']['rating'])\n",
    "######## DO NOT EDIT HERE ########"
   ]
  }
 ],
 "metadata": {
  "kernelspec": {
   "display_name": "Python 3 (ipykernel)",
   "language": "python",
   "name": "python3"
  },
  "language_info": {
   "codemirror_mode": {
    "name": "ipython",
    "version": 3
   },
   "file_extension": ".py",
   "mimetype": "text/x-python",
   "name": "python",
   "nbconvert_exporter": "python",
   "pygments_lexer": "ipython3",
   "version": "3.11.6"
  }
 },
 "nbformat": 4,
 "nbformat_minor": 4
}
